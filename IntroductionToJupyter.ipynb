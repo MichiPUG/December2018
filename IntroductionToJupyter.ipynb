{
 "cells": [
  {
   "cell_type": "markdown",
   "metadata": {},
   "source": [
    "# **Introduction to Jupyter**\n",
    "###### Chuck Anderson\n",
    "  * Jupyter is an ambitious open-source project\n",
    "  * See https://jupyter.org\n",
    "  * \"Project Jupyter exists to develop open-source software, open-standards, and services for interactive computing across dozens of programming languages.\"\n",
    "  * Jupyter notebook viewers bundled with Anaconda or available independently\n",
    "  \n",
    "Jupyter name derives from Julia, Python, R\n",
    "\n",
    "#### Previously was named IPython for 'interactive python'; in 2014 was rebranded as Jupyter\n",
    " \n",
    "#### Endorsements:\n",
    "  * _**This year’s Nobel Prize in economics was awarded to a Python convert**_ <br>\n",
    "     https://qz.com/1417145/economics-nobel-laureate-paul-romer-is-a-python-programming-convert/\n",
    "     \n",
    "    \"(Paul) Romer believes that open-source notebooks are the way forward for sharing research\"\n",
    "\n",
    "  * _**The Scientific Paper Is Obsolete**_ <br>\n",
    "    https://www.theatlantic.com/science/archive/2018/04/the-scientific-paper-is-obsolete/556676/\n",
    "\n",
    "    The author argues that Jupyter notebooks may replace the traditional research paper typically shared as a PDF.\n",
    "\n",
    "<br>\n",
    "\n",
    "\n",
    "### _What is a Jupyter notebook document?_\n",
    "  - an interactive document which allows you to run code, enter descriptive text and\n",
    "present output in graphical and other visualization forms\n",
    "  - a web browser-based interactive computational environment\n",
    "  - Using hyperbole, we might say it is a living analysis\n",
    "  - From the Jupyter Project website: it is an open-source web application\n",
    "  - allows you to create and share documents that contain live code, equations, visualizations and narrative text.\n",
    "\n",
    "\n",
    "### Uses include\n",
    "  - data cleaning and transformation\n",
    "  - numerical simulation\n",
    "  - statistical modeling\n",
    "  - data visualization\n",
    "  - machine learning\n",
    "  - book chapters written as notebook documents\n",
    "  - see the web for more use-cases and examples\n",
    "\n",
    "<br><br>\n",
    "\n",
    "---\n",
    "  \n",
    "#### Notebook documents are a standard method for data scientists to describe and share their analyses, and are standard interfaces for analysis on platforms such as  \n",
    "  - AWS SageMaker & AWS Regoknition\n",
    "  - Azure HDInsight\n",
    "  - Google Colab\n",
    "  - IBM Data Scientist Workbench\n",
    "  \n",
    "<br><br>"
   ]
  },
  {
   "cell_type": "markdown",
   "metadata": {},
   "source": [
    "## **Jupyter notebook documents** \n",
    "  - can run more than 40 languages such as Python, R, Julia, Ruby, Scala, C, Javascript, Spark, etc.\n",
    "  - can share notebooks via any storage repository such as google drive, dropbox, onedrive, github, notebook viewer\n",
    "  - provde rich, interactive output: HTML, images, videos, LaTeX\n",
    "  - integrable with big data tools such as apache spark\n",
    "\n",
    "\n",
    "### **Basic topics** \n",
    "  * text cells\n",
    "  * code cells\n",
    "  * plot/visualization cells\n",
    "\n",
    "  \n",
    "### **More advanced topics**\n",
    "  * magics: core language extension providing additional useful capabilities  \n",
    "  * widgets: computational extensions that enhance notebooks by adding various capabilities  \n",
    "  * binder: self contained docker images which duplicate an analysis environment\n",
    "  * jupyterhub: multi-user version of jupyter notebook "
   ]
  },
  {
   "cell_type": "markdown",
   "metadata": {},
   "source": [
    "<br>\n",
    "\n",
    "## Notebook viewers/renderers\n",
    "  - JuypyterNotebook: Jupyter Project's first-generation viewer\n",
    "  - JupyterLab: Jupyter Project's second-generation viewer, now \"ready for users\"\n",
    "  "
   ]
  },
  {
   "cell_type": "markdown",
   "metadata": {},
   "source": [
    "\n",
    "Without installing anything onto your machine, take a look at an online notebook example:\n",
    "    \n",
    "On https://blog.jupyter.org  \n",
    "    - search for binder\n",
    "    - select the \"Binder 2.0\" post\n",
    "    - click the \"launch binder\" button\n",
    "\n",
    "https://mybinder.org/v2/gh/wildtreetech/explore-open-data/binder20-elife?filepath=bikes-per-week.ipynb\n",
    "    \n",
    "Let's Use this notebook document to cover some basics in your browser"
   ]
  },
  {
   "cell_type": "markdown",
   "metadata": {},
   "source": [
    "### Easily view documents via\n",
    "   \n",
    "  - https://nbviewer.jupyter.org/\n",
    "  - rendered directly on GitHub\n",
    "\n",
    "eg. see Chuck Anderson's August 2018 presentation https://github.com/MichiPUG/August2018/blob/master/pandas/IntroductionToPandas.ipynb"
   ]
  },
  {
   "cell_type": "markdown",
   "metadata": {},
   "source": [
    "<br>\n",
    "\n",
    "## **JupyterLab enhancements** ##\n",
    " * launch multiple tabs simultaneously, so can have multiple kernels\n",
    " * simultaneously run different programming languages in separate kernels \n",
    " * run code in consoles which are live sessions interacting with the kernel \n",
    " * launch terminals\n",
    " * open files in plain text, CSV and other delimited text formats, JSON, various image formats, PDF, Latex\n",
    " * viewers and editors include \n",
    "   - text editor\n",
    "   - image viewer\n",
    "   - tabular data viewer\n",
    "   - tree-view JSON viewer \n",
    "   - editor for SVG images\n",
    "   \n",
    "As of this writing cannot yet exchange information between kernels.  \n",
    "Contrast that with viewers such as Beaker & SOS which can (relying on web, have not personally tried those viewers)"
   ]
  },
  {
   "cell_type": "markdown",
   "metadata": {},
   "source": [
    "---\n",
    "\n",
    "Let's launch some example notebook documents to explore JupyterLab\n",
    "\n",
    " * CD_ConsumpLiesureSimulation.ipynb\n",
    " * Julia_ODEsolverandPlotexampleInJupyter.ipynb\n",
    " * R_exampleInJupyter.ipynb\n",
    " * JSONexample.ipynb"
   ]
  },
  {
   "cell_type": "markdown",
   "metadata": {},
   "source": [
    "### **Launch preferences** ###\n",
    " * Squeeze Jupyter into largest possible screen real-estate\n",
    "\n",
    "in terminal shell launch desired environment with package manager, e.g.\n",
    "```\n",
    "conda activate base\n",
    "```\n",
    "\n",
    "Execute the command\n",
    "```\n",
    "jupyter lab --no-browser \n",
    "```\n",
    "    \n",
    "Receive a loop-back URL address, e.g.  http://localhost:8888/?token=81252f\n",
    "\n",
    "\n",
    "In another terminal shell launch browser using the loop-back URL\n",
    "```\n",
    "chromium-browser --app=http://localhost:8888/?token=81252f\n",
    "```\n",
    "<br>"
   ]
  },
  {
   "cell_type": "markdown",
   "metadata": {},
   "source": [
    "### Sharing a notebook in other formats ###\n",
    " - convert notbook document to various other formats: html, pdf, latex, etc.\n",
    " - these formats are static in the sense they do not execute code\n",
    " - command-line conversion using nbconvert package\n",
    "   (apt-get install nbconvert)\n",
    " - Within Jupyter Lab, convert options are contained in the \"File\" menu\n",
    "   \"File > Export notebook as\" "
   ]
  },
  {
   "cell_type": "markdown",
   "metadata": {},
   "source": [
    "<br>\n",
    "\n",
    "---\n",
    "\n",
    "Resources:\n",
    "\n",
    "https://www.jupyter.org/ <br>\n",
    "https://jupyterlab.readthedocs.io\n",
    "\n",
    "\n",
    "Lot's of online discussion, tutorials, etc:\n",
    "\n",
    "Some examples:\n",
    "\n",
    "https://www.dataquest.io/blog/jupyter-notebook-tips-tricks-shortcuts/ <br>\n",
    "https://www.linkedin.com/pulse/interfacing-r-from-python-3-jupyter-notebook-jared-stufft <br>\n",
    "https://www.datacamp.com/community/tutorials/tutorial-jupyter-notebook"
   ]
  },
  {
   "cell_type": "code",
   "execution_count": null,
   "metadata": {},
   "outputs": [],
   "source": []
  }
 ],
 "metadata": {
  "kernelspec": {
   "display_name": "Python 3",
   "language": "python",
   "name": "python3"
  },
  "language_info": {
   "codemirror_mode": {
    "name": "ipython",
    "version": 3
   },
   "file_extension": ".py",
   "mimetype": "text/x-python",
   "name": "python",
   "nbconvert_exporter": "python",
   "pygments_lexer": "ipython3",
   "version": "3.5.5"
  }
 },
 "nbformat": 4,
 "nbformat_minor": 2
}
