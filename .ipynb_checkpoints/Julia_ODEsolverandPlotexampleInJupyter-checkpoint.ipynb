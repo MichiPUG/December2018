{
 "cells": [
  {
   "cell_type": "code",
   "execution_count": 1,
   "metadata": {},
   "outputs": [
    {
     "name": "stderr",
     "output_type": "stream",
     "text": [
      "\u001b[1m\u001b[36mINFO: \u001b[39m\u001b[22m\u001b[36mCloning cache of DiffBase from https://github.com/JuliaDiff/DiffBase.jl.git\n",
      "\u001b[39m\u001b[1m\u001b[36mINFO: \u001b[39m\u001b[22m\u001b[36mCloning cache of DiffEqBase from https://github.com/JuliaDiffEq/DiffEqBase.jl.git\n",
      "\u001b[39m\u001b[1m\u001b[36mINFO: \u001b[39m\u001b[22m\u001b[36mCloning cache of DiffEqOperators from https://github.com/JuliaDiffEq/DiffEqOperators.jl.git\n",
      "\u001b[39m\u001b[1m\u001b[36mINFO: \u001b[39m\u001b[22m\u001b[36mCloning cache of FunctionWrappers from https://github.com/yuyichao/FunctionWrappers.jl.git\n",
      "\u001b[39m\u001b[1m\u001b[36mINFO: \u001b[39m\u001b[22m\u001b[36mCloning cache of GenericSVD from https://github.com/JuliaMath/GenericSVD.jl.git\n",
      "\u001b[39m\u001b[1m\u001b[36mINFO: \u001b[39m\u001b[22m\u001b[36mCloning cache of IteratorInterfaceExtensions from https://github.com/queryverse/IteratorInterfaceExtensions.jl.git\n",
      "\u001b[39m\u001b[1m\u001b[36mINFO: \u001b[39m\u001b[22m\u001b[36mCloning cache of LinearMaps from https://github.com/Jutho/LinearMaps.jl.git\n",
      "\u001b[39m\u001b[1m\u001b[36mINFO: \u001b[39m\u001b[22m\u001b[36mCloning cache of MuladdMacro from https://github.com/JuliaDiffEq/MuladdMacro.jl.git\n",
      "\u001b[39m\u001b[1m\u001b[36mINFO: \u001b[39m\u001b[22m\u001b[36mCloning cache of NLsolve from https://github.com/JuliaNLSolvers/NLsolve.jl.git\n",
      "\u001b[39m\u001b[1m\u001b[36mINFO: \u001b[39m\u001b[22m\u001b[36mCloning cache of OrdinaryDiffEq from https://github.com/JuliaDiffEq/OrdinaryDiffEq.jl.git\n",
      "\u001b[39m\u001b[1m\u001b[36mINFO: \u001b[39m\u001b[22m\u001b[36mCloning cache of RecipesBase from https://github.com/JuliaPlots/RecipesBase.jl.git\n",
      "\u001b[39m\u001b[1m\u001b[36mINFO: \u001b[39m\u001b[22m\u001b[36mCloning cache of RecursiveArrayTools from https://github.com/JuliaDiffEq/RecursiveArrayTools.jl.git\n",
      "\u001b[39m\u001b[1m\u001b[36mINFO: \u001b[39m\u001b[22m\u001b[36mCloning cache of Requires from https://github.com/MikeInnes/Requires.jl.git\n",
      "\u001b[39m\u001b[1m\u001b[36mINFO: \u001b[39m\u001b[22m\u001b[36mCloning cache of Roots from https://github.com/JuliaMath/Roots.jl.git\n",
      "\u001b[39m\u001b[1m\u001b[36mINFO: \u001b[39m\u001b[22m\u001b[36mCloning cache of SimpleTraits from https://github.com/mauro3/SimpleTraits.jl.git\n",
      "\u001b[39m\u001b[1m\u001b[36mINFO: \u001b[39m\u001b[22m\u001b[36mCloning cache of TableTraits from https://github.com/queryverse/TableTraits.jl.git\n",
      "\u001b[39m\u001b[1m\u001b[36mINFO: \u001b[39m\u001b[22m\u001b[36mInstalling DiffBase v0.3.2\n",
      "\u001b[39m\u001b[1m\u001b[36mINFO: \u001b[39m\u001b[22m\u001b[36mInstalling DiffEqBase v3.13.3\n",
      "\u001b[39m\u001b[1m\u001b[36mINFO: \u001b[39m\u001b[22m\u001b[36mInstalling DiffEqOperators v1.3.0\n",
      "\u001b[39m\u001b[1m\u001b[36mINFO: \u001b[39m\u001b[22m\u001b[36mInstalling FunctionWrappers v1.0.0\n",
      "\u001b[39m\u001b[1m\u001b[36mINFO: \u001b[39m\u001b[22m\u001b[36mInstalling GenericSVD v0.1.0\n",
      "\u001b[39m\u001b[1m\u001b[36mINFO: \u001b[39m\u001b[22m\u001b[36mInstalling IteratorInterfaceExtensions v0.0.2\n",
      "\u001b[39m\u001b[1m\u001b[36mINFO: \u001b[39m\u001b[22m\u001b[36mDowngrading LineSearches: v6.0.2 => v3.2.5\n",
      "\u001b[39m\u001b[1m\u001b[36mINFO: \u001b[39m\u001b[22m\u001b[36mInstalling LinearMaps v1.0.4\n",
      "\u001b[39m\u001b[1m\u001b[36mINFO: \u001b[39m\u001b[22m\u001b[36mInstalling MuladdMacro v0.0.2\n",
      "\u001b[39m\u001b[1m\u001b[36mINFO: \u001b[39m\u001b[22m\u001b[36mDowngrading NLSolversBase: v6.1.1 => v4.4.1\n",
      "\u001b[39m\u001b[1m\u001b[36mINFO: \u001b[39m\u001b[22m\u001b[36mInstalling NLsolve v1.0.1\n",
      "\u001b[39m\u001b[1m\u001b[36mINFO: \u001b[39m\u001b[22m\u001b[36mDowngrading Optim: v0.15.3 => v0.14.1\n",
      "\u001b[39m\u001b[1m\u001b[36mINFO: \u001b[39m\u001b[22m\u001b[36mInstalling OrdinaryDiffEq v3.21.0\n",
      "\u001b[39m\u001b[1m\u001b[36mINFO: \u001b[39m\u001b[22m\u001b[36mInstalling RecipesBase v0.3.1\n",
      "\u001b[39m\u001b[1m\u001b[36mINFO: \u001b[39m\u001b[22m\u001b[36mInstalling RecursiveArrayTools v0.15.0\n",
      "\u001b[39m\u001b[1m\u001b[36mINFO: \u001b[39m\u001b[22m\u001b[36mInstalling Requires v0.4.4\n",
      "\u001b[39m\u001b[1m\u001b[36mINFO: \u001b[39m\u001b[22m\u001b[36mInstalling Roots v0.7.3\n",
      "\u001b[39m\u001b[1m\u001b[36mINFO: \u001b[39m\u001b[22m\u001b[36mInstalling SimpleTraits v0.6.0\n",
      "\u001b[39m\u001b[1m\u001b[36mINFO: \u001b[39m\u001b[22m\u001b[36mInstalling TableTraits v0.2.0\n",
      "\u001b[39m\u001b[1m\u001b[36mINFO: \u001b[39m\u001b[22m\u001b[36mBuilding DiffEqBase\n",
      "\u001b[39m\u001b[1m\u001b[36mINFO: \u001b[39m\u001b[22m\u001b[36m~~~ DifferentialEquations.jl *BREAKING* changes  ~~~\n",
      "\n",
      "We have changed the front-end API on how\n",
      "users may define equations of motion and \n",
      "problems, for all problem types that can\n",
      "be used in the DifferentialEquations.jl.\n",
      "These are *BREAKING* changes, and they\n",
      "also have *NO WARNINGS*!\n",
      "\n",
      "Please see our latest documentation here:\n",
      "http://docs.juliadiffeq.org/latest/\n",
      "\n",
      "or the blogpost that describes the changes:\n",
      "http://juliadiffeq.org/2018/01/24/Parameters.html\n",
      "\n",
      "In short, the mutated argument is the first argument,\n",
      "and parameters are now directly passed\n",
      "into the equations of motion function. For all\n",
      "types now mutation goes first, then dependent variables, \n",
      "then parameters, then independent variables. \n",
      "\n",
      "`f(mutated, dependent variables, p/integrator, independent variables)`\n",
      "\n",
      "For example, this means that the ODE syntax will be `f(u,p,t)` (for the\n",
      "out-of-place) and `f(du,u,p,t)` (for the in-place). Notice\n",
      "that this change also removes the need for ParameterizedFunctions\n",
      "as now parameters are part of the equations of motion.\n",
      "\n",
      "For more details please visit the above links!\n",
      "\u001b[39m\u001b[1m\u001b[36mINFO: \u001b[39m\u001b[22m\u001b[36mBuilding SpecialFunctions\n",
      "\u001b[39m\u001b[1m\u001b[36mINFO: \u001b[39m\u001b[22m\u001b[36mPackage database updated\n",
      "\u001b[39m\u001b[1m\u001b[36mINFO: \u001b[39m\u001b[22m\u001b[36mMETADATA is out-of-date — you may not have the latest version of OrdinaryDiffEq\n",
      "\u001b[39m\u001b[1m\u001b[36mINFO: \u001b[39m\u001b[22m\u001b[36mUse `Pkg.update()` to get the latest versions of your packages\n",
      "\u001b[39m"
     ]
    }
   ],
   "source": [
    "Pkg.add(\"OrdinaryDiffEq\")"
   ]
  },
  {
   "cell_type": "code",
   "execution_count": null,
   "metadata": {},
   "outputs": [
    {
     "name": "stderr",
     "output_type": "stream",
     "text": [
      "\u001b[1m\u001b[36mINFO: \u001b[39m\u001b[22m\u001b[36mPrecompiling module OrdinaryDiffEq.\n",
      "\u001b[39m"
     ]
    }
   ],
   "source": [
    "using OrdinaryDiffEq\n",
    "using StaticArrays\n",
    "\n",
    "f(x, p, t) = SVector(x[2], -x[2]-x[1]+p[1])  # x'' + x' + x = ±p₁\n",
    "h(u, t, integrator) = u[1]-integrator.p[2]  # switching surface x = ±p₂;\n",
    "g(integrator) = (integrator.p .= -integrator.p)  # impact map (p₁, p₂) = -(p₁, p₂)\n",
    "\n",
    "prob = ODEProblem(f,  # RHS\n",
    "                  SVector(0.0, 1.0),  # initial value\n",
    "                  (0.0, 100.0),  # time interval\n",
    "                  MVector(1.0, 1.0))  # parameters\n",
    "cb = ContinuousCallback(h, g)\n",
    "sol = solve(prob, Vern6(), callback=cb, dtmax=0.1)"
   ]
  },
  {
   "cell_type": "code",
   "execution_count": 14,
   "metadata": {},
   "outputs": [
    {
     "data": {
      "text/plain": [
       "retcode: Success\n",
       "Interpolation: specialized 6th order lazy interpolation\n",
       "t: 1046-element Array{Float64,1}:\n",
       "   0.0   \n",
       "   0.1   \n",
       "   0.2   \n",
       "   0.3   \n",
       "   0.4   \n",
       "   0.5   \n",
       "   0.6   \n",
       "   0.7   \n",
       "   0.8   \n",
       "   0.9   \n",
       "   1.0   \n",
       "   1.1   \n",
       "   1.2   \n",
       "   ⋮     \n",
       "  98.9411\n",
       "  99.0411\n",
       "  99.1411\n",
       "  99.2411\n",
       "  99.3411\n",
       "  99.4411\n",
       "  99.5411\n",
       "  99.6411\n",
       "  99.7411\n",
       "  99.8411\n",
       "  99.9411\n",
       " 100.0   \n",
       "u: 1046-element Array{StaticArrays.SArray{Tuple{2},Float64,1,2},1}:\n",
       " [0.0, 1.0]             \n",
       " [0.0998375, 0.995167]  \n",
       " [0.198733, 0.981331]   \n",
       " [0.295837, 0.959481]   \n",
       " [0.390395, 0.930587]   \n",
       " [0.481751, 0.895595]   \n",
       " [0.569341, 0.855416]   \n",
       " [0.65269, 0.810928]    \n",
       " [0.731411, 0.762963]   \n",
       " [0.805193, 0.712308]   \n",
       " [0.873807, 0.6597]     \n",
       " [0.937091, 0.605826]   \n",
       " [0.994951, 0.551319]   \n",
       " ⋮                      \n",
       " [0.441519, -1.08941]   \n",
       " [0.331054, -1.11759]   \n",
       " [0.218444, -1.13247]   \n",
       " [0.104965, -1.13517]   \n",
       " [-0.00822072, -1.12681]\n",
       " [-0.120066, -1.10854]  \n",
       " [-0.229634, -1.08146]  \n",
       " [-0.336101, -1.04668]  \n",
       " [-0.438748, -1.00525]  \n",
       " [-0.536964, -0.958212] \n",
       " [-0.630236, -0.906536] \n",
       " [-0.682655, -0.874331] "
      ]
     },
     "execution_count": 14,
     "metadata": {},
     "output_type": "execute_result"
    }
   ],
   "source": [
    "sol"
   ]
  },
  {
   "cell_type": "code",
   "execution_count": 4,
   "metadata": {},
   "outputs": [
    {
     "name": "stderr",
     "output_type": "stream",
     "text": [
      "\u001b[1m\u001b[36mINFO: \u001b[39m\u001b[22m\u001b[36mCloning cache of AssetRegistry from https://github.com/JuliaGizmos/AssetRegistry.jl.git\n",
      "\u001b[39m\u001b[1m\u001b[36mINFO: \u001b[39m\u001b[22m\u001b[36mCloning cache of Blink from https://github.com/JunoLab/Blink.jl.git\n",
      "\u001b[39m\u001b[1m\u001b[36mINFO: \u001b[39m\u001b[22m\u001b[36mCloning cache of BufferedStreams from https://github.com/BioJulia/BufferedStreams.jl.git\n",
      "\u001b[39m\u001b[1m\u001b[36mINFO: \u001b[39m\u001b[22m\u001b[36mCloning cache of Codecs from https://github.com/dcjones/Codecs.jl.git\n",
      "\u001b[39m\u001b[1m\u001b[36mINFO: \u001b[39m\u001b[22m\u001b[36mCloning cache of FunctionalCollections from https://github.com/JuliaCollections/FunctionalCollections.jl.git\n",
      "\u001b[39m\u001b[1m\u001b[36mINFO: \u001b[39m\u001b[22m\u001b[36mCloning cache of Hiccup from https://github.com/JunoLab/Hiccup.jl.git\n",
      "\u001b[39m\u001b[1m\u001b[36mINFO: \u001b[39m\u001b[22m\u001b[36mCloning cache of HttpCommon from https://github.com/JuliaWeb/HttpCommon.jl.git\n",
      "\u001b[39m\u001b[1m\u001b[36mINFO: \u001b[39m\u001b[22m\u001b[36mCloning cache of HttpParser from https://github.com/JuliaWeb/HttpParser.jl.git\n",
      "\u001b[39m\u001b[1m\u001b[36mINFO: \u001b[39m\u001b[22m\u001b[36mCloning cache of HttpServer from https://github.com/JuliaWeb/HttpServer.jl.git\n",
      "\u001b[39m\u001b[1m\u001b[36mINFO: \u001b[39m\u001b[22m\u001b[36mCloning cache of JSExpr from https://github.com/JuliaGizmos/JSExpr.jl.git\n",
      "\u001b[39m\u001b[1m\u001b[36mINFO: \u001b[39m\u001b[22m\u001b[36mCloning cache of LaTeXStrings from https://github.com/stevengj/LaTeXStrings.jl.git\n",
      "\u001b[39m\u001b[1m\u001b[36mINFO: \u001b[39m\u001b[22m\u001b[36mCloning cache of Lazy from https://github.com/MikeInnes/Lazy.jl.git\n",
      "\u001b[39m\u001b[1m\u001b[36mINFO: \u001b[39m\u001b[22m\u001b[36mCloning cache of Libz from https://github.com/BioJulia/Libz.jl.git\n",
      "\u001b[39m\u001b[1m\u001b[36mINFO: \u001b[39m\u001b[22m\u001b[36mCloning cache of Mustache from https://github.com/jverzani/Mustache.jl.git\n",
      "\u001b[39m\u001b[1m\u001b[36mINFO: \u001b[39m\u001b[22m\u001b[36mCloning cache of Mux from https://github.com/JuliaWeb/Mux.jl.git\n",
      "\u001b[39m\u001b[1m\u001b[36mINFO: \u001b[39m\u001b[22m\u001b[36mCloning cache of Observables from https://github.com/JuliaGizmos/Observables.jl.git\n",
      "\u001b[39m\u001b[1m\u001b[36mINFO: \u001b[39m\u001b[22m\u001b[36mCloning cache of Pidfile from https://github.com/vtjnash/Pidfile.jl.git\n",
      "\u001b[39m\u001b[1m\u001b[36mINFO: \u001b[39m\u001b[22m\u001b[36mCloning cache of Plotly from https://github.com/plotly/Plotly.jl.git\n",
      "\u001b[39m\u001b[1m\u001b[36mINFO: \u001b[39m\u001b[22m\u001b[36mCloning cache of PlotlyBase from https://github.com/sglyon/PlotlyBase.jl.git\n",
      "\u001b[39m\u001b[1m\u001b[36mINFO: \u001b[39m\u001b[22m\u001b[36mCloning cache of PlotlyJS from https://github.com/sglyon/PlotlyJS.jl.git\n",
      "\u001b[39m\u001b[1m\u001b[36mINFO: \u001b[39m\u001b[22m\u001b[36mCloning cache of Requests from https://github.com/JuliaWeb/Requests.jl.git\n",
      "\u001b[39m\u001b[1m\u001b[36mINFO: \u001b[39m\u001b[22m\u001b[36mCloning cache of WebIO from https://github.com/JuliaGizmos/WebIO.jl.git\n",
      "\u001b[39m\u001b[1m\u001b[36mINFO: \u001b[39m\u001b[22m\u001b[36mCloning cache of WebSockets from https://github.com/JuliaWeb/WebSockets.jl.git\n",
      "\u001b[39m\u001b[1m\u001b[36mINFO: \u001b[39m\u001b[22m\u001b[36mCloning cache of Widgets from https://github.com/piever/Widgets.jl.git\n",
      "\u001b[39m\u001b[1m\u001b[36mINFO: \u001b[39m\u001b[22m\u001b[36mInstalling AssetRegistry v0.0.2\n",
      "\u001b[39m\u001b[1m\u001b[36mINFO: \u001b[39m\u001b[22m\u001b[36mInstalling Blink v0.7.0\n",
      "\u001b[39m\u001b[1m\u001b[36mINFO: \u001b[39m\u001b[22m\u001b[36mInstalling BufferedStreams v0.4.1\n",
      "\u001b[39m\u001b[1m\u001b[36mINFO: \u001b[39m\u001b[22m\u001b[36mInstalling Codecs v0.4.0\n",
      "\u001b[39m\u001b[1m\u001b[36mINFO: \u001b[39m\u001b[22m\u001b[36mInstalling FunctionalCollections v0.3.2\n",
      "\u001b[39m\u001b[1m\u001b[36mINFO: \u001b[39m\u001b[22m\u001b[36mInstalling Hiccup v0.1.1\n",
      "\u001b[39m\u001b[1m\u001b[36mINFO: \u001b[39m\u001b[22m\u001b[36mInstalling HttpCommon v0.4.0\n",
      "\u001b[39m\u001b[1m\u001b[36mINFO: \u001b[39m\u001b[22m\u001b[36mInstalling HttpParser v0.4.0\n",
      "\u001b[39m\u001b[1m\u001b[36mINFO: \u001b[39m\u001b[22m\u001b[36mInstalling HttpServer v0.3.1\n",
      "\u001b[39m\u001b[1m\u001b[36mINFO: \u001b[39m\u001b[22m\u001b[36mInstalling JSExpr v0.2.2\n",
      "\u001b[39m\u001b[1m\u001b[36mINFO: \u001b[39m\u001b[22m\u001b[36mInstalling LaTeXStrings v1.0.3\n",
      "\u001b[39m\u001b[1m\u001b[36mINFO: \u001b[39m\u001b[22m\u001b[36mInstalling Lazy v0.12.1\n",
      "\u001b[39m\u001b[1m\u001b[36mINFO: \u001b[39m\u001b[22m\u001b[36mInstalling Libz v0.4.0\n",
      "\u001b[39m\u001b[1m\u001b[36mINFO: \u001b[39m\u001b[22m\u001b[36mInstalling Mustache v0.3.3\n",
      "\u001b[39m\u001b[1m\u001b[36mINFO: \u001b[39m\u001b[22m\u001b[36mInstalling Mux v0.3.1\n",
      "\u001b[39m\u001b[1m\u001b[36mINFO: \u001b[39m\u001b[22m\u001b[36mInstalling Observables v0.1.2\n",
      "\u001b[39m\u001b[1m\u001b[36mINFO: \u001b[39m\u001b[22m\u001b[36mInstalling Pidfile v1.0.0\n",
      "\u001b[39m\u001b[1m\u001b[36mINFO: \u001b[39m\u001b[22m\u001b[36mInstalling Plotly v0.1.1\n",
      "\u001b[39m\u001b[1m\u001b[36mINFO: \u001b[39m\u001b[22m\u001b[36mInstalling PlotlyBase v0.1.2\n",
      "\u001b[39m\u001b[1m\u001b[36mINFO: \u001b[39m\u001b[22m\u001b[36mInstalling PlotlyJS v0.10.3\n",
      "\u001b[39m\u001b[1m\u001b[36mINFO: \u001b[39m\u001b[22m\u001b[36mInstalling Requests v0.5.1\n",
      "\u001b[39m\u001b[1m\u001b[36mINFO: \u001b[39m\u001b[22m\u001b[36mInstalling WebIO v0.2.8\n",
      "\u001b[39m\u001b[1m\u001b[36mINFO: \u001b[39m\u001b[22m\u001b[36mInstalling WebSockets v0.5.0\n",
      "\u001b[39m\u001b[1m\u001b[36mINFO: \u001b[39m\u001b[22m\u001b[36mInstalling Widgets v0.2.5\n",
      "\u001b[39m\u001b[1m\u001b[36mINFO: \u001b[39m\u001b[22m\u001b[36mBuilding HttpParser\n",
      "\u001b[39m\u001b[1m\u001b[36mINFO: \u001b[39m\u001b[22m\u001b[36mBuilding MbedTLS\n",
      "\u001b[39m\u001b[1m\u001b[36mInfo: \u001b[39m\u001b[22m\u001b[36musing prebuilt binaries\n",
      "\u001b[39m\u001b[1m\u001b[36mINFO: \u001b[39m\u001b[22m\u001b[36mBuilding WebIO\n",
      "\u001b[39m\u001b[1m\u001b[36mINFO: \u001b[39m\u001b[22m\u001b[36mBuilding Blink\n",
      "\u001b[39m\u001b[1m\u001b[36mINFO: \u001b[39m\u001b[22m\u001b[36mBuilding PlotlyJS\n",
      "\u001b[39m  % Total    % Received % Xferd  Average Speed   Time    Time     Time  Current\n",
      "                                 Dload  Upload   Total   Spent    Left  Speed\n",
      "100 1412k  100 1412k    0     0   158k      0  0:00:08  0:00:08 --:--:--  216k\n",
      "  % Total    % Received % Xferd  Average Speed   Time    Time     Time  Current\n",
      "                                 Dload  Upload   Total   Spent    Left  Speed\n",
      "100 2805k  100 2805k    0     0   143k      0  0:00:19  0:00:19 --:--:--  169k\n",
      "\u001b[1m\u001b[36mINFO: \u001b[39m\u001b[22m\u001b[36mPackage database updated\n",
      "\u001b[39m\u001b[1m\u001b[36mINFO: \u001b[39m\u001b[22m\u001b[36mMETADATA is out-of-date — you may not have the latest version of Plotly\n",
      "\u001b[39m\u001b[1m\u001b[36mINFO: \u001b[39m\u001b[22m\u001b[36mUse `Pkg.update()` to get the latest versions of your packages\n",
      "\u001b[39m"
     ]
    }
   ],
   "source": [
    "Pkg.add(\"Plotly\")"
   ]
  },
  {
   "cell_type": "code",
   "execution_count": 8,
   "metadata": {},
   "outputs": [
    {
     "name": "stderr",
     "output_type": "stream",
     "text": [
      "\u001b[1m\u001b[36mINFO: \u001b[39m\u001b[22m\u001b[36mCloning cache of PyCall from https://github.com/JuliaPy/PyCall.jl.git\n",
      "\u001b[39m\u001b[1m\u001b[36mINFO: \u001b[39m\u001b[22m\u001b[36mCloning cache of PyPlot from https://github.com/JuliaPy/PyPlot.jl.git\n",
      "\u001b[39m\u001b[1m\u001b[36mINFO: \u001b[39m\u001b[22m\u001b[36mInstalling PyCall v1.18.4\n",
      "\u001b[39m\u001b[1m\u001b[36mINFO: \u001b[39m\u001b[22m\u001b[36mInstalling PyPlot v2.6.3\n",
      "\u001b[39m\u001b[1m\u001b[36mINFO: \u001b[39m\u001b[22m\u001b[36mBuilding Conda\n",
      "\u001b[39m\u001b[1m\u001b[36mINFO: \u001b[39m\u001b[22m\u001b[36mBuilding PyCall\n",
      "\u001b[39m\u001b[1m\u001b[36mInfo: \u001b[39m\u001b[22m\u001b[36mPyCall is using python3 (Python 3.6.5) at /home/hoona/anaconda3/envs/py36/bin/python3, libpython = /home/hoona/anaconda3/envs/py36/lib/libpython3.6m\n",
      "\u001b[39m\u001b[1m\u001b[36mInfo: \u001b[39m\u001b[22m\u001b[36m/home/hoona/.julia/v0.6/PyCall/deps/deps.jl has been updated\n",
      "\u001b[39m\u001b[1m\u001b[36mInfo: \u001b[39m\u001b[22m\u001b[36m/home/hoona/.julia/v0.6/PyCall/deps/PYTHON has been updated\n",
      "\u001b[39m\u001b[1m\u001b[36mINFO: \u001b[39m\u001b[22m\u001b[36mPackage database updated\n",
      "\u001b[39m\u001b[1m\u001b[36mINFO: \u001b[39m\u001b[22m\u001b[36mMETADATA is out-of-date — you may not have the latest version of PyPlot\n",
      "\u001b[39m\u001b[1m\u001b[36mINFO: \u001b[39m\u001b[22m\u001b[36mUse `Pkg.update()` to get the latest versions of your packages\n",
      "\u001b[39m"
     ]
    }
   ],
   "source": [
    "Pkg.add(\"PyPlot\")"
   ]
  },
  {
   "cell_type": "code",
   "execution_count": 9,
   "metadata": {},
   "outputs": [
    {
     "name": "stderr",
     "output_type": "stream",
     "text": [
      "\u001b[1m\u001b[36mINFO: \u001b[39m\u001b[22m\u001b[36mPrecompiling module PyPlot.\n",
      "\u001b[39m"
     ]
    },
    {
     "data": {
      "image/png": "[encoded data removed]",
      "text/plain": [
       "PyPlot.Figure(PyObject <Figure size 640x480 with 1 Axes>)"
      ]
     },
     "metadata": {},
     "output_type": "display_data"
    },
    {
     "data": {
      "text/plain": [
       "1-element Array{PyCall.PyObject,1}:\n",
       " PyObject <matplotlib.lines.Line2D object at 0x7f5dcda03048>"
      ]
     },
     "execution_count": 9,
     "metadata": {},
     "output_type": "execute_result"
    }
   ],
   "source": [
    "using PyPlot\n",
    "    x = linspace(0,2*pi,1000); y = sin.(3*x + 4*cos.(2*x))\n",
    "    plot(x, y, color=\"red\", linewidth=2.0, linestyle=\"--\")"
   ]
  },
  {
   "cell_type": "code",
   "execution_count": 11,
   "metadata": {},
   "outputs": [
    {
     "name": "stderr",
     "output_type": "stream",
     "text": [
      "\u001b[1m\u001b[36mINFO: \u001b[39m\u001b[22m\u001b[36mCloning cache of GR from https://github.com/jheinen/GR.jl.git\n",
      "\u001b[39m\u001b[1m\u001b[36mINFO: \u001b[39m\u001b[22m\u001b[36mCloning cache of PlotThemes from https://github.com/JuliaPlots/PlotThemes.jl.git\n",
      "\u001b[39m\u001b[1m\u001b[36mINFO: \u001b[39m\u001b[22m\u001b[36mCloning cache of PlotUtils from https://github.com/JuliaPlots/PlotUtils.jl.git\n",
      "\u001b[39m\u001b[1m\u001b[36mINFO: \u001b[39m\u001b[22m\u001b[36mCloning cache of Plots from https://github.com/JuliaPlots/Plots.jl.git\n",
      "\u001b[39m\u001b[1m\u001b[36mINFO: \u001b[39m\u001b[22m\u001b[36mInstalling GR v0.34.1\n",
      "\u001b[39m\u001b[1m\u001b[36mINFO: \u001b[39m\u001b[22m\u001b[36mInstalling PlotThemes v0.2.0\n",
      "\u001b[39m\u001b[1m\u001b[36mINFO: \u001b[39m\u001b[22m\u001b[36mInstalling PlotUtils v0.4.4\n",
      "\u001b[39m\u001b[1m\u001b[36mINFO: \u001b[39m\u001b[22m\u001b[36mInstalling Plots v0.17.4\n",
      "\u001b[39m\u001b[1m\u001b[36mINFO: \u001b[39m\u001b[22m\u001b[36mBuilding GR\n",
      "\u001b[39m\u001b[1m\u001b[36mINFO: \u001b[39m\u001b[22m\u001b[36mDownloading pre-compiled GR 0.34.1 Ubuntu binary\n",
      "\u001b[39m  % Total    % Received % Xferd  Average Speed   Time    Time     Time  Current\n",
      "                                 Dload  Upload   Total   Spent    Left  Speed\n",
      "100 38.9M  100 38.9M    0     0  74181      0  0:09:10  0:09:10 --:--:--  232k\n",
      "\u001b[1m\u001b[36mINFO: \u001b[39m\u001b[22m\u001b[36mBuilding Plots\n",
      "\u001b[39m\u001b[1m\u001b[36mINFO: \u001b[39m\u001b[22m\u001b[36mCannot find deps/plotly-latest.min.js... downloading latest version.\n",
      "\u001b[39m  % Total    % Received % Xferd  Average Speed   Time    Time     Time  Current\n",
      "                                 Dload  Upload   Total   Spent    Left  Speed\n",
      "100 2805k  100 2805k    0     0   263k      0  0:00:10  0:00:10 --:--:--  277k\n",
      "\u001b[1m\u001b[36mINFO: \u001b[39m\u001b[22m\u001b[36mPackage database updated\n",
      "\u001b[39m\u001b[1m\u001b[36mINFO: \u001b[39m\u001b[22m\u001b[36mMETADATA is out-of-date — you may not have the latest version of Plots\n",
      "\u001b[39m\u001b[1m\u001b[36mINFO: \u001b[39m\u001b[22m\u001b[36mUse `Pkg.update()` to get the latest versions of your packages\n",
      "\u001b[39m"
     ]
    }
   ],
   "source": [
    "Pkg.add(\"Plots\")"
   ]
  },
  {
   "cell_type": "code",
   "execution_count": 13,
   "metadata": {},
   "outputs": [
    {
     "name": "stderr",
     "output_type": "stream",
     "text": [
      "\u001b[1m\u001b[36mINFO: \u001b[39m\u001b[22m\u001b[36mPrecompiling module GR.\n",
      "\u001b[39m"
     ]
    },
    {
     "data": {
      "image/svg+xml": [
       "<?xml version=\"1.0\" encoding=\"utf-8\"?>\n",
       "<svg xmlns=\"http://www.w3.org/2000/svg\" xmlns:xlink=\"http://www.w3.org/1999/xlink\" width=\"150\" height=\"100\" viewBox=\"0 0 600 400\">\n",
       "<defs>\n",
       "  <clipPath id=\"clip7600\">\n",
       "    <rect x=\"0\" y=\"0\" width=\"2000\" height=\"2000\"/>\n",
       "  </clipPath>\n",
       "</defs>\n",
       "<defs>\n",
       "  <clipPath id=\"clip7601\">\n",
       "    <rect x=\"0\" y=\"0\" width=\"600\" height=\"400\"/>\n",
       "  </clipPath>\n",
       "</defs>\n",
       "<polygon clip-path=\"url(#clip7601)\" points=\"\n",
       "0,400 600,400 600,0 0,0 \n",
       "  \" fill=\"#ffffff\" fill-opacity=\"1\"/>\n",
       "<defs>\n",
       "  <clipPath id=\"clip7602\">\n",
       "    <rect x=\"120\" y=\"0\" width=\"421\" height=\"400\"/>\n",
       "  </clipPath>\n",
       "</defs>\n",
       "<polygon clip-path=\"url(#clip7601)\" points=\"\n",
       "47.0391,375.869 580.315,375.869 580.315,31.4961 47.0391,31.4961 \n",
       "  \" fill=\"#ffffff\" fill-opacity=\"1\"/>\n",
       "<defs>\n",
       "  <clipPath id=\"clip7603\">\n",
       "    <rect x=\"47\" y=\"31\" width=\"534\" height=\"345\"/>\n",
       "  </clipPath>\n",
       "</defs>\n",
       "<polyline clip-path=\"url(#clip7603)\" style=\"stroke:#000000; stroke-width:0.5; stroke-opacity:0.1; fill:none\" points=\"\n",
       "  62.1318,375.869 62.1318,31.4961 \n",
       "  \"/>\n",
       "<polyline clip-path=\"url(#clip7603)\" style=\"stroke:#000000; stroke-width:0.5; stroke-opacity:0.1; fill:none\" points=\"\n",
       "  187.904,375.869 187.904,31.4961 \n",
       "  \"/>\n",
       "<polyline clip-path=\"url(#clip7603)\" style=\"stroke:#000000; stroke-width:0.5; stroke-opacity:0.1; fill:none\" points=\"\n",
       "  313.677,375.869 313.677,31.4961 \n",
       "  \"/>\n",
       "<polyline clip-path=\"url(#clip7603)\" style=\"stroke:#000000; stroke-width:0.5; stroke-opacity:0.1; fill:none\" points=\"\n",
       "  439.45,375.869 439.45,31.4961 \n",
       "  \"/>\n",
       "<polyline clip-path=\"url(#clip7603)\" style=\"stroke:#000000; stroke-width:0.5; stroke-opacity:0.1; fill:none\" points=\"\n",
       "  565.222,375.869 565.222,31.4961 \n",
       "  \"/>\n",
       "<polyline clip-path=\"url(#clip7603)\" style=\"stroke:#000000; stroke-width:0.5; stroke-opacity:0.1; fill:none\" points=\"\n",
       "  47.0391,367.195 580.315,367.195 \n",
       "  \"/>\n",
       "<polyline clip-path=\"url(#clip7603)\" style=\"stroke:#000000; stroke-width:0.5; stroke-opacity:0.1; fill:none\" points=\"\n",
       "  47.0391,284.569 580.315,284.569 \n",
       "  \"/>\n",
       "<polyline clip-path=\"url(#clip7603)\" style=\"stroke:#000000; stroke-width:0.5; stroke-opacity:0.1; fill:none\" points=\"\n",
       "  47.0391,201.943 580.315,201.943 \n",
       "  \"/>\n",
       "<polyline clip-path=\"url(#clip7603)\" style=\"stroke:#000000; stroke-width:0.5; stroke-opacity:0.1; fill:none\" points=\"\n",
       "  47.0391,119.317 580.315,119.317 \n",
       "  \"/>\n",
       "<polyline clip-path=\"url(#clip7603)\" style=\"stroke:#000000; stroke-width:0.5; stroke-opacity:0.1; fill:none\" points=\"\n",
       "  47.0391,36.6916 580.315,36.6916 \n",
       "  \"/>\n",
       "<polyline clip-path=\"url(#clip7601)\" style=\"stroke:#000000; stroke-width:1; stroke-opacity:1; fill:none\" points=\"\n",
       "  47.0391,375.869 580.315,375.869 \n",
       "  \"/>\n",
       "<polyline clip-path=\"url(#clip7601)\" style=\"stroke:#000000; stroke-width:1; stroke-opacity:1; fill:none\" points=\"\n",
       "  47.0391,375.869 47.0391,31.4961 \n",
       "  \"/>\n",
       "<polyline clip-path=\"url(#clip7601)\" style=\"stroke:#000000; stroke-width:1; stroke-opacity:1; fill:none\" points=\"\n",
       "  62.1318,375.869 62.1318,370.703 \n",
       "  \"/>\n",
       "<polyline clip-path=\"url(#clip7601)\" style=\"stroke:#000000; stroke-width:1; stroke-opacity:1; fill:none\" points=\"\n",
       "  187.904,375.869 187.904,370.703 \n",
       "  \"/>\n",
       "<polyline clip-path=\"url(#clip7601)\" style=\"stroke:#000000; stroke-width:1; stroke-opacity:1; fill:none\" points=\"\n",
       "  313.677,375.869 313.677,370.703 \n",
       "  \"/>\n",
       "<polyline clip-path=\"url(#clip7601)\" style=\"stroke:#000000; stroke-width:1; stroke-opacity:1; fill:none\" points=\"\n",
       "  439.45,375.869 439.45,370.703 \n",
       "  \"/>\n",
       "<polyline clip-path=\"url(#clip7601)\" style=\"stroke:#000000; stroke-width:1; stroke-opacity:1; fill:none\" points=\"\n",
       "  565.222,375.869 565.222,370.703 \n",
       "  \"/>\n",
       "<polyline clip-path=\"url(#clip7601)\" style=\"stroke:#000000; stroke-width:1; stroke-opacity:1; fill:none\" points=\"\n",
       "  47.0391,367.195 55.0382,367.195 \n",
       "  \"/>\n",
       "<polyline clip-path=\"url(#clip7601)\" style=\"stroke:#000000; stroke-width:1; stroke-opacity:1; fill:none\" points=\"\n",
       "  47.0391,284.569 55.0382,284.569 \n",
       "  \"/>\n",
       "<polyline clip-path=\"url(#clip7601)\" style=\"stroke:#000000; stroke-width:1; stroke-opacity:1; fill:none\" points=\"\n",
       "  47.0391,201.943 55.0382,201.943 \n",
       "  \"/>\n",
       "<polyline clip-path=\"url(#clip7601)\" style=\"stroke:#000000; stroke-width:1; stroke-opacity:1; fill:none\" points=\"\n",
       "  47.0391,119.317 55.0382,119.317 \n",
       "  \"/>\n",
       "<polyline clip-path=\"url(#clip7601)\" style=\"stroke:#000000; stroke-width:1; stroke-opacity:1; fill:none\" points=\"\n",
       "  47.0391,36.6916 55.0382,36.6916 \n",
       "  \"/>\n",
       "<g clip-path=\"url(#clip7601)\">\n",
       "<text style=\"fill:#000000; fill-opacity:1; font-family:Arial,Helvetica Neue,Helvetica,sans-serif; font-size:12; text-anchor:middle;\" transform=\"rotate(0, 62.1318, 389.669)\" x=\"62.1318\" y=\"389.669\">1</text>\n",
       "</g>\n",
       "<g clip-path=\"url(#clip7601)\">\n",
       "<text style=\"fill:#000000; fill-opacity:1; font-family:Arial,Helvetica Neue,Helvetica,sans-serif; font-size:12; text-anchor:middle;\" transform=\"rotate(0, 187.904, 389.669)\" x=\"187.904\" y=\"389.669\">2</text>\n",
       "</g>\n",
       "<g clip-path=\"url(#clip7601)\">\n",
       "<text style=\"fill:#000000; fill-opacity:1; font-family:Arial,Helvetica Neue,Helvetica,sans-serif; font-size:12; text-anchor:middle;\" transform=\"rotate(0, 313.677, 389.669)\" x=\"313.677\" y=\"389.669\">3</text>\n",
       "</g>\n",
       "<g clip-path=\"url(#clip7601)\">\n",
       "<text style=\"fill:#000000; fill-opacity:1; font-family:Arial,Helvetica Neue,Helvetica,sans-serif; font-size:12; text-anchor:middle;\" transform=\"rotate(0, 439.45, 389.669)\" x=\"439.45\" y=\"389.669\">4</text>\n",
       "</g>\n",
       "<g clip-path=\"url(#clip7601)\">\n",
       "<text style=\"fill:#000000; fill-opacity:1; font-family:Arial,Helvetica Neue,Helvetica,sans-serif; font-size:12; text-anchor:middle;\" transform=\"rotate(0, 565.222, 389.669)\" x=\"565.222\" y=\"389.669\">5</text>\n",
       "</g>\n",
       "<g clip-path=\"url(#clip7601)\">\n",
       "<text style=\"fill:#000000; fill-opacity:1; font-family:Arial,Helvetica Neue,Helvetica,sans-serif; font-size:12; text-anchor:end;\" transform=\"rotate(0, 41.0391, 371.695)\" x=\"41.0391\" y=\"371.695\">0.00</text>\n",
       "</g>\n",
       "<g clip-path=\"url(#clip7601)\">\n",
       "<text style=\"fill:#000000; fill-opacity:1; font-family:Arial,Helvetica Neue,Helvetica,sans-serif; font-size:12; text-anchor:end;\" transform=\"rotate(0, 41.0391, 289.069)\" x=\"41.0391\" y=\"289.069\">0.25</text>\n",
       "</g>\n",
       "<g clip-path=\"url(#clip7601)\">\n",
       "<text style=\"fill:#000000; fill-opacity:1; font-family:Arial,Helvetica Neue,Helvetica,sans-serif; font-size:12; text-anchor:end;\" transform=\"rotate(0, 41.0391, 206.443)\" x=\"41.0391\" y=\"206.443\">0.50</text>\n",
       "</g>\n",
       "<g clip-path=\"url(#clip7601)\">\n",
       "<text style=\"fill:#000000; fill-opacity:1; font-family:Arial,Helvetica Neue,Helvetica,sans-serif; font-size:12; text-anchor:end;\" transform=\"rotate(0, 41.0391, 123.817)\" x=\"41.0391\" y=\"123.817\">0.75</text>\n",
       "</g>\n",
       "<g clip-path=\"url(#clip7601)\">\n",
       "<text style=\"fill:#000000; fill-opacity:1; font-family:Arial,Helvetica Neue,Helvetica,sans-serif; font-size:12; text-anchor:end;\" transform=\"rotate(0, 41.0391, 41.1916)\" x=\"41.0391\" y=\"41.1916\">1.00</text>\n",
       "</g>\n",
       "<g clip-path=\"url(#clip7601)\">\n",
       "<text style=\"fill:#000000; fill-opacity:1; font-family:Arial,Helvetica Neue,Helvetica,sans-serif; font-size:21; text-anchor:middle;\" transform=\"rotate(0, 313.677, 18)\" x=\"313.677\" y=\"18\">My Plot</text>\n",
       "</g>\n",
       "<polyline clip-path=\"url(#clip7603)\" style=\"stroke:#009af9; stroke-width:2; stroke-opacity:1; fill:none\" points=\"\n",
       "  62.1318,84.3712 187.904,175.39 313.677,92.7735 439.45,204.915 565.222,87.1829 \n",
       "  \"/>\n",
       "<polyline clip-path=\"url(#clip7603)\" style=\"stroke:#e26f46; stroke-width:2; stroke-opacity:1; fill:none\" points=\"\n",
       "  62.1318,221.135 187.904,154.518 313.677,49.8269 439.45,274.449 565.222,133.246 \n",
       "  \"/>\n",
       "<polyline clip-path=\"url(#clip7603)\" style=\"stroke:#3da44d; stroke-width:2; stroke-opacity:1; fill:none\" points=\"\n",
       "  62.1318,362.024 187.904,345.838 313.677,41.2425 439.45,63.323 565.222,138.475 \n",
       "  \"/>\n",
       "<polyline clip-path=\"url(#clip7603)\" style=\"stroke:#c271d2; stroke-width:2; stroke-opacity:1; fill:none\" points=\"\n",
       "  62.1318,241.687 187.904,80.9865 313.677,356.758 439.45,366.122 565.222,182.185 \n",
       "  \"/>\n",
       "<polyline clip-path=\"url(#clip7603)\" style=\"stroke:#ac8d18; stroke-width:2; stroke-opacity:1; fill:none\" points=\"\n",
       "  62.1318,61.8199 187.904,215.754 313.677,52.1288 439.45,198.315 565.222,219.807 \n",
       "  \"/>\n",
       "<polygon clip-path=\"url(#clip7601)\" points=\"\n",
       "489.608,143.096 562.315,143.096 562.315,52.3761 489.608,52.3761 \n",
       "  \" fill=\"#ffffff\" fill-opacity=\"1\"/>\n",
       "<polyline clip-path=\"url(#clip7601)\" style=\"stroke:#000000; stroke-width:1; stroke-opacity:1; fill:none\" points=\"\n",
       "  489.608,143.096 562.315,143.096 562.315,52.3761 489.608,52.3761 489.608,143.096 \n",
       "  \"/>\n",
       "<polyline clip-path=\"url(#clip7601)\" style=\"stroke:#009af9; stroke-width:2; stroke-opacity:1; fill:none\" points=\"\n",
       "  495.608,67.4961 531.608,67.4961 \n",
       "  \"/>\n",
       "<g clip-path=\"url(#clip7601)\">\n",
       "<text style=\"fill:#000000; fill-opacity:1; font-family:Arial,Helvetica Neue,Helvetica,sans-serif; font-size:12; text-anchor:start;\" transform=\"rotate(0, 537.608, 71.9961)\" x=\"537.608\" y=\"71.9961\">y1</text>\n",
       "</g>\n",
       "<polyline clip-path=\"url(#clip7601)\" style=\"stroke:#e26f46; stroke-width:2; stroke-opacity:1; fill:none\" points=\"\n",
       "  495.608,82.6161 531.608,82.6161 \n",
       "  \"/>\n",
       "<g clip-path=\"url(#clip7601)\">\n",
       "<text style=\"fill:#000000; fill-opacity:1; font-family:Arial,Helvetica Neue,Helvetica,sans-serif; font-size:12; text-anchor:start;\" transform=\"rotate(0, 537.608, 87.1161)\" x=\"537.608\" y=\"87.1161\">y2</text>\n",
       "</g>\n",
       "<polyline clip-path=\"url(#clip7601)\" style=\"stroke:#3da44d; stroke-width:2; stroke-opacity:1; fill:none\" points=\"\n",
       "  495.608,97.7361 531.608,97.7361 \n",
       "  \"/>\n",
       "<g clip-path=\"url(#clip7601)\">\n",
       "<text style=\"fill:#000000; fill-opacity:1; font-family:Arial,Helvetica Neue,Helvetica,sans-serif; font-size:12; text-anchor:start;\" transform=\"rotate(0, 537.608, 102.236)\" x=\"537.608\" y=\"102.236\">y3</text>\n",
       "</g>\n",
       "<polyline clip-path=\"url(#clip7601)\" style=\"stroke:#c271d2; stroke-width:2; stroke-opacity:1; fill:none\" points=\"\n",
       "  495.608,112.856 531.608,112.856 \n",
       "  \"/>\n",
       "<g clip-path=\"url(#clip7601)\">\n",
       "<text style=\"fill:#000000; fill-opacity:1; font-family:Arial,Helvetica Neue,Helvetica,sans-serif; font-size:12; text-anchor:start;\" transform=\"rotate(0, 537.608, 117.356)\" x=\"537.608\" y=\"117.356\">y4</text>\n",
       "</g>\n",
       "<polyline clip-path=\"url(#clip7601)\" style=\"stroke:#ac8d18; stroke-width:2; stroke-opacity:1; fill:none\" points=\"\n",
       "  495.608,127.976 531.608,127.976 \n",
       "  \"/>\n",
       "<g clip-path=\"url(#clip7601)\">\n",
       "<text style=\"fill:#000000; fill-opacity:1; font-family:Arial,Helvetica Neue,Helvetica,sans-serif; font-size:12; text-anchor:start;\" transform=\"rotate(0, 537.608, 132.476)\" x=\"537.608\" y=\"132.476\">y5</text>\n",
       "</g>\n",
       "</svg>\n"
      ]
     },
     "execution_count": 13,
     "metadata": {},
     "output_type": "execute_result"
    }
   ],
   "source": [
    "using Plots\n",
    "    Plots.plot(rand(5,5),linewidth=2,title=\"My Plot\")"
   ]
  },
  {
   "cell_type": "code",
   "execution_count": 15,
   "metadata": {},
   "outputs": [
    {
     "data": {
      "application/vnd.plotly.v1+json": {
       "data": [
        {
         "colorbar": {
          "title": ""
         },
         "hoverinfo": "text",
         "legendgroup": "y1",
         "line": {
          "color": "rgba(0, 154, 250, 1.000)",
          "dash": "solid",
          "shape": "linear",
          "width": 2
         },
         "mode": "lines",
         "name": "y1",
         "showlegend": true,
         "text": [
          null,
          null,
          null,
          null,
          null
         ],
         "type": "scatter",
         "x": [
          1,
          2,
          3,
          4,
          5
         ],
         "xaxis": "x1",
         "y": [
          0.09738067825542096,
          0.8211697998161873,
          0.8320402127949602,
          0.8975355058123566,
          0.90471962622601
         ],
         "yaxis": "y1"
        },
        {
         "colorbar": {
          "title": ""
         },
         "hoverinfo": "text",
         "legendgroup": "y2",
         "line": {
          "color": "rgba(227, 111, 71, 1.000)",
          "dash": "solid",
          "shape": "linear",
          "width": 2
         },
         "mode": "lines",
         "name": "y2",
         "showlegend": true,
         "text": [
          null,
          null,
          null,
          null,
          null
         ],
         "type": "scatter",
         "x": [
          1,
          2,
          3,
          4,
          5
         ],
         "xaxis": "x1",
         "y": [
          0.4199125464476372,
          0.977689311680829,
          0.6621400353042168,
          0.8965877630584276,
          0.828933754687776
         ],
         "yaxis": "y1"
        },
        {
         "colorbar": {
          "title": ""
         },
         "hoverinfo": "text",
         "legendgroup": "y3",
         "line": {
          "color": "rgba(62, 164, 78, 1.000)",
          "dash": "solid",
          "shape": "linear",
          "width": 2
         },
         "mode": "lines",
         "name": "y3",
         "showlegend": true,
         "text": [
          null,
          null,
          null,
          null,
          null
         ],
         "type": "scatter",
         "x": [
          1,
          2,
          3,
          4,
          5
         ],
         "xaxis": "x1",
         "y": [
          0.5902894906257643,
          0.9175997902593278,
          0.796306695615016,
          0.5267290079033045,
          0.7252573481707345
         ],
         "yaxis": "y1"
        },
        {
         "colorbar": {
          "title": ""
         },
         "hoverinfo": "text",
         "legendgroup": "y4",
         "line": {
          "color": "rgba(195, 113, 210, 1.000)",
          "dash": "solid",
          "shape": "linear",
          "width": 2
         },
         "mode": "lines",
         "name": "y4",
         "showlegend": true,
         "text": [
          null,
          null,
          null,
          null,
          null
         ],
         "type": "scatter",
         "x": [
          1,
          2,
          3,
          4,
          5
         ],
         "xaxis": "x1",
         "y": [
          0.437402661512692,
          0.26994922865114934,
          0.5846371083009254,
          0.9460388163561637,
          0.9748283297943854
         ],
         "yaxis": "y1"
        },
        {
         "colorbar": {
          "title": ""
         },
         "hoverinfo": "text",
         "legendgroup": "y5",
         "line": {
          "color": "rgba(172, 142, 24, 1.000)",
          "dash": "solid",
          "shape": "linear",
          "width": 2
         },
         "mode": "lines",
         "name": "y5",
         "showlegend": true,
         "text": [
          null,
          null,
          null,
          null,
          null
         ],
         "type": "scatter",
         "x": [
          1,
          2,
          3,
          4,
          5
         ],
         "xaxis": "x1",
         "y": [
          0.1566548484169532,
          0.19662590777350153,
          0.7367306896575807,
          0.5200513382212475,
          0.5459793355832261
         ],
         "yaxis": "y1"
        }
       ],
       "layout": {
        "annotations": [
         {
          "font": {
           "color": "rgba(0, 0, 0, 1.000)",
           "family": "sans-serif",
           "size": 20
          },
          "rotation": 0,
          "showarrow": false,
          "text": "My Plot",
          "x": 0.5222222222222223,
          "xanchor": "center",
          "xref": "paper",
          "y": 1,
          "yanchor": "top",
          "yref": "paper"
         }
        ],
        "height": 400,
        "legend": {
         "bgcolor": "rgba(255, 255, 255, 1.000)",
         "bordercolor": "rgba(0, 0, 0, 1.000)",
         "font": {
          "color": "rgba(0, 0, 0, 1.000)",
          "family": "sans-serif",
          "size": 11
         },
         "tracegroupgap": 0,
         "x": 1,
         "y": 1
        },
        "margin": {
         "b": 20,
         "l": 0,
         "r": 0,
         "t": 20
        },
        "paper_bgcolor": "rgba(255, 255, 255, 1.000)",
        "plot_bgcolor": "rgba(255, 255, 255, 1.000)",
        "showlegend": true,
        "width": 600,
        "xaxis": {
         "anchor": "y1",
         "domain": [
          0.05100612423447069,
          0.9934383202099737
         ],
         "gridcolor": "rgba(0, 0, 0, 0.100)",
         "gridwidth": 0.5,
         "linecolor": "rgba(0, 0, 0, 1.000)",
         "mirror": false,
         "range": [
          0.88,
          5.12
         ],
         "showgrid": true,
         "showline": true,
         "showticklabels": true,
         "tickangle": 0,
         "tickcolor": "rgb(0, 0, 0)",
         "tickfont": {
          "color": "rgba(0, 0, 0, 1.000)",
          "family": "sans-serif",
          "size": 11
         },
         "tickmode": "array",
         "ticks": "inside",
         "ticktext": [
          "1",
          "2",
          "3",
          "4",
          "5"
         ],
         "tickvals": [
          1,
          2,
          3,
          4,
          5
         ],
         "title": "",
         "titlefont": {
          "color": "rgba(0, 0, 0, 1.000)",
          "family": "sans-serif",
          "size": 15
         },
         "type": "-",
         "visible": true,
         "zeroline": false,
         "zerolinecolor": "rgba(0, 0, 0, 1.000)"
        },
        "yaxis": {
         "anchor": "x1",
         "domain": [
          0.03762029746281716,
          0.9415463692038496
         ],
         "gridcolor": "rgba(0, 0, 0, 0.100)",
         "gridwidth": 0.5,
         "linecolor": "rgba(0, 0, 0, 1.000)",
         "mirror": false,
         "range": [
          0.07097141925265872,
          1.0040985706835912
         ],
         "showgrid": true,
         "showline": true,
         "showticklabels": true,
         "tickangle": 0,
         "tickcolor": "rgb(0, 0, 0)",
         "tickfont": {
          "color": "rgba(0, 0, 0, 1.000)",
          "family": "sans-serif",
          "size": 11
         },
         "tickmode": "array",
         "ticks": "inside",
         "ticktext": [
          "0.2",
          "0.4",
          "0.6",
          "0.8",
          "1.0"
         ],
         "tickvals": [
          0.2,
          0.4,
          0.6000000000000001,
          0.8,
          1
         ],
         "title": "",
         "titlefont": {
          "color": "rgba(0, 0, 0, 1.000)",
          "family": "sans-serif",
          "size": 15
         },
         "type": "-",
         "visible": true,
         "zeroline": false,
         "zerolinecolor": "rgba(0, 0, 0, 1.000)"
        }
       }
      },
      "text/html": [
       "<script src=\"file:///home/hoona/anaconda3/share/julia/site/v0.6/Plots/src/backends/../../deps/plotly-latest.min.js\"></script>    <div id=\"503c6470-6ff0-4dd8-8eb2-b9b38000eaaa\" style=\"width:600px;height:400px;\"></div>\n",
       "    <script>\n",
       "    PLOT = document.getElementById('503c6470-6ff0-4dd8-8eb2-b9b38000eaaa');\n",
       "    Plotly.plot(PLOT, [{\"xaxis\":\"x1\",\"colorbar\":{\"title\":\"\"},\"yaxis\":\"y1\",\"text\":[null,null,null,null,null],\"x\":[1,2,3,4,5],\"showlegend\":true,\"mode\":\"lines\",\"name\":\"y1\",\"legendgroup\":\"y1\",\"line\":{\"color\":\"rgba(0, 154, 250, 1.000)\",\"shape\":\"linear\",\"dash\":\"solid\",\"width\":2},\"y\":[0.09738067825542096,0.8211697998161873,0.8320402127949602,0.8975355058123566,0.90471962622601],\"type\":\"scatter\",\"hoverinfo\":\"text\"},{\"xaxis\":\"x1\",\"colorbar\":{\"title\":\"\"},\"yaxis\":\"y1\",\"text\":[null,null,null,null,null],\"x\":[1,2,3,4,5],\"showlegend\":true,\"mode\":\"lines\",\"name\":\"y2\",\"legendgroup\":\"y2\",\"line\":{\"color\":\"rgba(227, 111, 71, 1.000)\",\"shape\":\"linear\",\"dash\":\"solid\",\"width\":2},\"y\":[0.4199125464476372,0.977689311680829,0.6621400353042168,0.8965877630584276,0.828933754687776],\"type\":\"scatter\",\"hoverinfo\":\"text\"},{\"xaxis\":\"x1\",\"colorbar\":{\"title\":\"\"},\"yaxis\":\"y1\",\"text\":[null,null,null,null,null],\"x\":[1,2,3,4,5],\"showlegend\":true,\"mode\":\"lines\",\"name\":\"y3\",\"legendgroup\":\"y3\",\"line\":{\"color\":\"rgba(62, 164, 78, 1.000)\",\"shape\":\"linear\",\"dash\":\"solid\",\"width\":2},\"y\":[0.5902894906257643,0.9175997902593278,0.796306695615016,0.5267290079033045,0.7252573481707345],\"type\":\"scatter\",\"hoverinfo\":\"text\"},{\"xaxis\":\"x1\",\"colorbar\":{\"title\":\"\"},\"yaxis\":\"y1\",\"text\":[null,null,null,null,null],\"x\":[1,2,3,4,5],\"showlegend\":true,\"mode\":\"lines\",\"name\":\"y4\",\"legendgroup\":\"y4\",\"line\":{\"color\":\"rgba(195, 113, 210, 1.000)\",\"shape\":\"linear\",\"dash\":\"solid\",\"width\":2},\"y\":[0.437402661512692,0.26994922865114934,0.5846371083009254,0.9460388163561637,0.9748283297943854],\"type\":\"scatter\",\"hoverinfo\":\"text\"},{\"xaxis\":\"x1\",\"colorbar\":{\"title\":\"\"},\"yaxis\":\"y1\",\"text\":[null,null,null,null,null],\"x\":[1,2,3,4,5],\"showlegend\":true,\"mode\":\"lines\",\"name\":\"y5\",\"legendgroup\":\"y5\",\"line\":{\"color\":\"rgba(172, 142, 24, 1.000)\",\"shape\":\"linear\",\"dash\":\"solid\",\"width\":2},\"y\":[0.1566548484169532,0.19662590777350153,0.7367306896575807,0.5200513382212475,0.5459793355832261],\"type\":\"scatter\",\"hoverinfo\":\"text\"}], {\"showlegend\":true,\"xaxis\":{\"showticklabels\":true,\"gridwidth\":0.5,\"tickvals\":[1.0,2.0,3.0,4.0,5.0],\"visible\":true,\"ticks\":\"inside\",\"range\":[0.88,5.12],\"domain\":[0.05100612423447069,0.9934383202099737],\"tickmode\":\"array\",\"linecolor\":\"rgba(0, 0, 0, 1.000)\",\"showgrid\":true,\"title\":\"\",\"mirror\":false,\"tickangle\":0,\"showline\":true,\"gridcolor\":\"rgba(0, 0, 0, 0.100)\",\"titlefont\":{\"color\":\"rgba(0, 0, 0, 1.000)\",\"family\":\"sans-serif\",\"size\":15},\"tickcolor\":\"rgb(0, 0, 0)\",\"ticktext\":[\"1\",\"2\",\"3\",\"4\",\"5\"],\"zeroline\":false,\"type\":\"-\",\"tickfont\":{\"color\":\"rgba(0, 0, 0, 1.000)\",\"family\":\"sans-serif\",\"size\":11},\"zerolinecolor\":\"rgba(0, 0, 0, 1.000)\",\"anchor\":\"y1\"},\"paper_bgcolor\":\"rgba(255, 255, 255, 1.000)\",\"annotations\":[{\"yanchor\":\"top\",\"xanchor\":\"center\",\"rotation\":-0.0,\"y\":1.0,\"font\":{\"color\":\"rgba(0, 0, 0, 1.000)\",\"family\":\"sans-serif\",\"size\":20},\"yref\":\"paper\",\"showarrow\":false,\"text\":\"My Plot\",\"xref\":\"paper\",\"x\":0.5222222222222223}],\"height\":400,\"margin\":{\"l\":0,\"b\":20,\"r\":0,\"t\":20},\"plot_bgcolor\":\"rgba(255, 255, 255, 1.000)\",\"yaxis\":{\"showticklabels\":true,\"gridwidth\":0.5,\"tickvals\":[0.2,0.4,0.6000000000000001,0.8,1.0],\"visible\":true,\"ticks\":\"inside\",\"range\":[0.07097141925265872,1.0040985706835912],\"domain\":[0.03762029746281716,0.9415463692038496],\"tickmode\":\"array\",\"linecolor\":\"rgba(0, 0, 0, 1.000)\",\"showgrid\":true,\"title\":\"\",\"mirror\":false,\"tickangle\":0,\"showline\":true,\"gridcolor\":\"rgba(0, 0, 0, 0.100)\",\"titlefont\":{\"color\":\"rgba(0, 0, 0, 1.000)\",\"family\":\"sans-serif\",\"size\":15},\"tickcolor\":\"rgb(0, 0, 0)\",\"ticktext\":[\"0.2\",\"0.4\",\"0.6\",\"0.8\",\"1.0\"],\"zeroline\":false,\"type\":\"-\",\"tickfont\":{\"color\":\"rgba(0, 0, 0, 1.000)\",\"family\":\"sans-serif\",\"size\":11},\"zerolinecolor\":\"rgba(0, 0, 0, 1.000)\",\"anchor\":\"x1\"},\"legend\":{\"tracegroupgap\":0,\"bordercolor\":\"rgba(0, 0, 0, 1.000)\",\"bgcolor\":\"rgba(255, 255, 255, 1.000)\",\"font\":{\"color\":\"rgba(0, 0, 0, 1.000)\",\"family\":\"sans-serif\",\"size\":11},\"y\":1.0,\"x\":1.0},\"width\":600});\n",
       "    </script>\n"
      ]
     },
     "execution_count": 15,
     "metadata": {},
     "output_type": "execute_result"
    }
   ],
   "source": []
  },
  {
   "cell_type": "code",
   "execution_count": null,
   "metadata": {},
   "outputs": [],
   "source": []
  }
 ],
 "metadata": {
  "kernelspec": {
   "display_name": "Julia 0.6.4",
   "language": "julia",
   "name": "julia-0.6"
  },
  "language_info": {
   "file_extension": ".jl",
   "mimetype": "application/julia",
   "name": "julia",
   "version": "0.6.4"
  }
 },
 "nbformat": 4,
 "nbformat_minor": 2
}
